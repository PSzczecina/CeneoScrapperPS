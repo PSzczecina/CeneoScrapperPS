{
 "cells": [
  {
   "attachments": {},
   "cell_type": "markdown",
   "metadata": {},
   "source": [
    "<h1>Ceneo Scrapper</h1>"
   ]
  },
  {
   "attachments": {},
   "cell_type": "markdown",
   "metadata": {},
   "source": [
    "<h2>Biblioteka</h2>"
   ]
  },
  {
   "cell_type": "code",
   "execution_count": null,
   "metadata": {},
   "outputs": [],
   "source": [
    "import requests\n",
    "from bs4 import BeautifulSoup"
   ]
  },
  {
   "attachments": {},
   "cell_type": "markdown",
   "metadata": {},
   "source": [
    "<h2>Wysyłanie Do serwera Żądania dostępu do zasobu </h2>"
   ]
  },
  {
   "cell_type": "code",
   "execution_count": null,
   "metadata": {},
   "outputs": [],
   "source": [
    "product_id = \"156802519\"\n",
    "url = f\"https://www.ceneo.pl/{product_id}/opinie-2\"\n",
    "response = requests.get(url)"
   ]
  },
  {
   "cell_type": "code",
   "execution_count": null,
   "metadata": {},
   "outputs": [],
   "source": [
    "page_dom = BeautifulSoup(response.text, \"html.parser\")\n",
    "print(type(page_dom))\n",
    "opinions = page_dom.select(\"div.js_product-review\")\n",
    "print(type(opinions))\n",
    "opinion = page_dom.select_one(\"div.js_product-review\")\n",
    "#opinion = opinions.pop()\n",
    "print(type(opinion))\n",
    "print(opinion)"
   ]
  },
  {
   "attachments": {},
   "cell_type": "markdown",
   "metadata": {},
   "source": [
    "## Ekstrakcja Składowych pojedyńczej opinii\n",
    "\n",
    "|Składowa|Selektor|Zmienna|\n",
    "|--------|--------|-------|\n",
    "|id opinii| [\"data-entry-id\"] |opinion_id|\n",
    "|autor| span.user-post__author-name |author|\n",
    "|rekomendacja| span.user-post__author-recomendation > em |recomendation|\n",
    "|gwiazdki| span.user-post__score-count\" |rating|\n",
    "|treść| div.user-post__text |content|\n",
    "|lista zalet| div.review-feature__title--positives ~ div.review-feature__item |pros|\n",
    "|lista wad| div.review-feature__title--negatives ~ div.review-feature__item |cons|\n",
    "|dla ilu przydatna| button.vote-yes > span |useful|\n",
    "|dla ilu nieprzydatna| button.vote-no > span |useless|\n",
    "|data wystawienia| span.user-post__published > time:nth-child(1)['datetime'] |publish_date|\n",
    "|data zakupu| span.user-post__published > time:nth-child(2)['datetime'] |purchase_date|"
   ]
  },
  {
   "cell_type": "code",
   "execution_count": null,
   "metadata": {},
   "outputs": [],
   "source": [
    "opinion_id = opinion[\"data-entry-id\"]\n",
    "author = opinion.select_one(\".user-post__author-name\")\n",
    "recomendation = opinion.select_one(\".user-post__author-recomendation\")\n",
    "rating = opinion.select_one(\".user-post__score-count\")\n",
    "content = opinion.select_one(\".user-post__text\")\n",
    "pros = opinion.select(\".review-feature__col\") #pros\n",
    "cons = opinion.select(\".review-feature__col\") #cons\n",
    "useful = opinion.select_one(\".vote-yes js_product-review-vote js_vote-yes\")\n",
    "useless = opinion.select_one(\".vote-no js_product-review-vote js_vote-no\")\n",
    "publish_date = opinion.select_one(\".user-post__published\") #first child\n",
    "purchase_date = opinion.select_one(\".user-post__published\") #second child"
   ]
  }
 ],
 "metadata": {
  "kernelspec": {
   "display_name": ".venv",
   "language": "python",
   "name": "python3"
  },
  "language_info": {
   "codemirror_mode": {
    "name": "ipython",
    "version": 3
   },
   "file_extension": ".py",
   "mimetype": "text/x-python",
   "name": "python",
   "nbconvert_exporter": "python",
   "pygments_lexer": "ipython3",
   "version": "3.11.4"
  },
  "orig_nbformat": 4
 },
 "nbformat": 4,
 "nbformat_minor": 2
}
