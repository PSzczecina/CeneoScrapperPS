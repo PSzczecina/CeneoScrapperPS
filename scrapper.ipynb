{
 "cells": [
  {
   "attachments": {},
   "cell_type": "markdown",
   "metadata": {},
   "source": [
    "<h1>Ceneo Scrapper</h1>"
   ]
  },
  {
   "attachments": {},
   "cell_type": "markdown",
   "metadata": {},
   "source": [
    "<h2>Biblioteka</h2>"
   ]
  },
  {
   "cell_type": "code",
   "execution_count": null,
   "metadata": {},
   "outputs": [],
   "source": [
    "import json\n",
    "import os\n",
    "import requests\n",
    "from bs4 import BeautifulSoup"
   ]
  },
  {
   "attachments": {},
   "cell_type": "markdown",
   "metadata": {},
   "source": [
    "<h2>Wysyłanie Do serwera Żądania dostępu do zasobu </h2>"
   ]
  },
  {
   "cell_type": "code",
   "execution_count": null,
   "metadata": {},
   "outputs": [],
   "source": [
    "product_id = \"156802519\"\n",
    "url = f\"https://www.ceneo.pl/{product_id}/opinie-1\""
   ]
  },
  {
   "cell_type": "code",
   "execution_count": null,
   "metadata": {},
   "outputs": [],
   "source": [
    "all_opinions = []\n",
    "while(url):\n",
    "    response = requests.get(url)\n",
    "    page_dom = BeautifulSoup(response.text, \"html.parser\")\n",
    "    #print(type(page_dom))\n",
    "    opinions = page_dom.select(\"div.js_product-review\")\n",
    "    #print(type(opinions))\n",
    "    #opinion = page_dom.select_one(\"div.js_product-review\") -- stare rzeczy\n",
    "    #opinion = opinions.pop() -- stare rzeczy\n",
    "    #print(type(opinion))\n",
    "    #print(opinion)\n",
    "    for opinion in opinions:\n",
    "        try:\n",
    "            single_opinion = {\n",
    "            \"opinion_id\": opinion[\"data-entry-id\"],\n",
    "            \"author\": opinion.select_one(\"span.user-post__author-name\").text.strip(),\n",
    "            \"recomendation\": opinion.select_one(\"span.user-post__author-recomendation > em\").text.strip(),\n",
    "            \"rating\": opinion.select_one(\"span.user-post__score-count\").text.strip(),\n",
    "            \"content\": opinion.select_one(\"div.user-post__text\").text.strip(),\n",
    "            \"pros\": [p.text.strip() for p in opinion.select(\"div.review-feature__title--positives ~ div.review-feature__item\")], #pros\n",
    "            \"cons\": [c.text.strip() for c in opinion.select(\"div.review-feature__title--negatives ~ div.review-feature__item\")], #cons\n",
    "            \"useful\": opinion.select_one(\"button.vote-yes > span\").text.strip(),\n",
    "            \"useless\": opinion.select_one(\"button.vote-no > span\").text.strip(),\n",
    "            \"publish_date\": opinion.select_one(\"span.user-post__published > time:nth-child(1)\")['datetime'].strip(),#first child\n",
    "            \"purchase_date\": opinion.select_one(\"span.user-post__published > time:nth-child(2)\")['datetime'].strip(), #second child\n",
    "            }\n",
    "            all_opinions.append(single_opinion)\n",
    "        except (TypeError, AttributeError):\n",
    "            pass\n",
    "    try:\n",
    "        url = \"https://www.ceneo.pl\" + page_dom.select_one(\"a.pagination__next\")['href'].strip()\n",
    "    except TypeError:\n",
    "        url = None"
   ]
  },
  {
   "attachments": {},
   "cell_type": "markdown",
   "metadata": {},
   "source": [
    "## Ekstrakcja Składowych pojedyńczej opinii\n",
    "\n",
    "|Składowa|Selektor|Zmienna|\n",
    "|--------|--------|-------|\n",
    "|id opinii| [\"data-entry-id\"] |opinion_id|\n",
    "|autor| span.user-post__author-name |author|\n",
    "|rekomendacja| span.user-post__author-recomendation > em |recomendation|\n",
    "|gwiazdki| span.user-post__score-count\" |rating|\n",
    "|treść| div.user-post__text |content|\n",
    "|lista zalet| div.review-feature__title--positives ~ div.review-feature__item |pros|\n",
    "|lista wad| div.review-feature__title--negatives ~ div.review-feature__item |cons|\n",
    "|dla ilu przydatna| button.vote-yes > span |useful|\n",
    "|dla ilu nieprzydatna| button.vote-no > span |useless|\n",
    "|data wystawienia| span.user-post__published > time:nth-child(1)['datetime'] |publish_date|\n",
    "|data zakupu| span.user-post__published > time:nth-child(2)['datetime'] |purchase_date|"
   ]
  },
  {
   "cell_type": "code",
   "execution_count": null,
   "metadata": {},
   "outputs": [],
   "source": [
<<<<<<< HEAD
    "#print(single_opinion)\n",
    "\n",
    "#for i in single_opinion.values():\n",
    "#    print(i)\n",
    "if not os.path.exists(\"opinions\"):\n",
    "    os.mkdir(\"opinions\")\n",
    "with open(f\"opinions/{product_id}.json\", \"w\", encoding=\"UTF-8\") as jf:  # \"jf\" to jeden plik z tymi wyscrappowanymi danymi \n",
    "    json.dump(all_opinions, jf, indent=4, ensure_ascii=False)"
   ]
  },
  {
   "cell_type": "code",
   "execution_count": null,
   "metadata": {},
   "outputs": [],
   "source": [
    "len(all_opinions)"
=======
    "opinion_id = opinion[\"data-entry-id\"]\n",
    "author = opinion.select_one(\"span.user-post__author-name\")\n",
    "recomendation = opinion.select_one(\"span.user-post__author-recomendation > em\")\n",
    "rating = opinion.select_one(\"span.user-post__score-count\")\n",
    "content = opinion.select_one(\"div.user-post__text\")\n",
    "pros = opinion.select(\"div.review-feature__title--positives ~ div.review-feature__item\") #pros\n",
    "cons = opinion.select(\"div.review-feature__title--negatives ~ div.review-feature__item\") #cons\n",
    "useful = opinion.select_one(\"button.vote-yes > span\")\n",
    "useless = opinion.select_one(\"button.vote-no > span\")\n",
    "publish_date = opinion.select_one(\"span.user-post__published > time:nth-child(1)\")['datetime'] #first child\n",
    "purchase_date = opinion.select_one(\"span.user-post__published > time:nth-child(2)\")['datetime'] #second child"
>>>>>>> 8139f6c0783274956784f24a3e8b3a9cbbcedcfa
   ]
  }
 ],
 "metadata": {
  "kernelspec": {
   "display_name": ".venv",
   "language": "python",
   "name": "python3"
  },
  "language_info": {
   "codemirror_mode": {
    "name": "ipython",
    "version": 3
   },
   "file_extension": ".py",
   "mimetype": "text/x-python",
   "name": "python",
   "nbconvert_exporter": "python",
   "pygments_lexer": "ipython3",
   "version": "3.9.13"
  },
  "orig_nbformat": 4
 },
 "nbformat": 4,
 "nbformat_minor": 2
}
